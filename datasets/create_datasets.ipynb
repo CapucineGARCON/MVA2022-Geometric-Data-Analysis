{
  "nbformat": 4,
  "nbformat_minor": 0,
  "metadata": {
    "colab": {
      "provenance": [],
      "collapsed_sections": [
        "7RuE9EiJZ6or",
        "4YxPWLb4Z-De",
        "OgWqePllaGiL",
        "nBtrOhFXuMyo",
        "TUxGi1wu7tbK",
        "5Xtuq7wY1Zid",
        "SWqGUN9vK5nY"
      ]
    },
    "kernelspec": {
      "name": "python3",
      "display_name": "Python 3"
    },
    "language_info": {
      "name": "python"
    }
  },
  "cells": [
    {
      "cell_type": "markdown",
      "source": [
        "# Mise en place"
      ],
      "metadata": {
        "id": "7RuE9EiJZ6or"
      }
    },
    {
      "cell_type": "code",
      "source": [
        "from sklearn.cluster import KMeans, SpectralClustering\n",
        "import numpy as np\n",
        "import pylab as plt\n",
        "import networkx as nx\n",
        "import pandas as pd\n",
        "from datetime import datetime, date, time\n",
        "import cvxpy as cp\n",
        "from scipy.optimize import minimize\n",
        "from numpy.linalg import norm, multi_dot\n",
        "from sklearn.metrics import normalized_mutual_info_score\n",
        "import copy\n",
        "import scipy.io\n",
        "import time\n",
        "import sys, os\n",
        "import itertools\n",
        "from collections import deque\n",
        "from datetime import datetime, timedelta"
      ],
      "metadata": {
        "id": "gyB1bhqdi8e9"
      },
      "execution_count": null,
      "outputs": []
    },
    {
      "cell_type": "markdown",
      "source": [
        "# MIT"
      ],
      "metadata": {
        "id": "OgWqePllaGiL"
      }
    },
    {
      "cell_type": "markdown",
      "source": [
        "This codes extracts the data of the RealityMining dataset.\n",
        "\n",
        "\n"
      ],
      "metadata": {
        "id": "-OJnfQQeZ0MC"
      }
    },
    {
      "cell_type": "code",
      "source": [
        "#start_date = 1094601600 #First day of classes in 04-05 academic year\n",
        "#end_date = 1133740800 #Last day of classes in 04-05 academic year\n",
        "\n",
        "def hasNumeric(obj, field):\n",
        "   try:\n",
        "      obj[field][0][0]\n",
        "      return True\n",
        "   except:\n",
        "      return False\n",
        "\n",
        "\n",
        "def getNumeric(obj, field):\n",
        "   return obj[field][0][0]\n",
        "\n",
        "\n",
        "def hasArray(obj, field):\n",
        "   try:\n",
        "      obj[field][0]\n",
        "      return True\n",
        "   except:\n",
        "      return False\n",
        "\n",
        "\n",
        "def getArray(obj, field):\n",
        "   return obj[field][0]\n",
        "\n",
        "\n",
        "def validSubjects(allSubjects):\n",
        "   return [s for s in allSubjects if hasNumeric(s,'mac') and hasNumeric(s,'my_hashedNumber')]\n",
        "\n",
        "\n",
        "# idDicts: subjects -> {int: subject}, {float: (int, subject)}, {int: (int, subject)}\n",
        "# First hash is contiguousId: subjectObject\n",
        "# second hash is macAddress: contiguousId, subjectObject\n",
        "# third hash is hashedNumber: contiguousId, subjectObject\n",
        "# because the id dictionaries reference the subject object, we can replace\n",
        "# the array of subject objects with these dictionaries.\n",
        "def idDicts(subjects):\n",
        "   return (dict((i, s) for (i,s) in enumerate(subjects)),\n",
        "      dict((getNumeric(s,'mac'), (i, s)) for (i,s) in enumerate(subjects)),\n",
        "      dict((getNumeric(s, 'my_hashedNumber'), (i, s)) for (i,s) in enumerate(subjects)))\n",
        "\n",
        "\n",
        "def allCommEvents(idDictionary):\n",
        "   events = []\n",
        "   for subjectId, subject in idDictionary.items():\n",
        "      if hasArray(subject, 'comm'):\n",
        "         events.extend([(subjectId, event) for event in getArray(subject, 'comm')])\n",
        "\n",
        "   print(\"%d total comm events\" % len(events))\n",
        "   return events\n",
        "\n",
        "\n",
        "# extract those call events which are voice calls and only between\n",
        "# two members of the study.\n",
        "def callsWithinStudy(commEvents, hashNumDict):\n",
        "   calls = [(subjectId, e) for (subjectId, e) in commEvents if getArray(e, 'description') == \"Voice call\"\n",
        "                                             and getNumeric(e, 'hashNum') in hashNumDict]\n",
        "   print(\"%d total calls within study\" % len(calls))\n",
        "   return calls\n",
        "\n",
        "\n",
        "def convertDatetime(dt):\n",
        "   return datetime.fromordinal(int(dt)) + timedelta(days=dt%1) - timedelta(days=366) - timedelta(hours=5)\n",
        "\n",
        "\n",
        "def processCallEvents(callEvents, hashNumDict):\n",
        "   processedCallEvents = []\n",
        "\n",
        "   for subjectId, event in callEvents:\n",
        "      direction = getArray(event, 'direction')\n",
        "      duration = 0 if direction == 'Missed' else getNumeric(event, 'duration')\n",
        "      date = convertDatetime(getNumeric(event, 'date'))\n",
        "      hashNum = getNumeric(event, 'hashNum')\n",
        "      otherPartyId = hashNumDict[hashNum][0]\n",
        "\n",
        "      eventAsDict = {'subjectId': subjectId,\n",
        "                      'direction': direction,\n",
        "                      'duration': duration,\n",
        "                      'otherPartyId': otherPartyId,\n",
        "                      'date': date}\n",
        "      processedCallEvents.append(eventAsDict)\n",
        "\n",
        "   print(\"%d call event dictionaries\" % len(processedCallEvents))\n",
        "   return processedCallEvents\n",
        "\n",
        "\n",
        "def inRange(dateRange, timevalue):\n",
        "   start, end = dateRange\n",
        "   unixTime = int(time.mktime(timevalue.timetuple()))\n",
        "   return start <= unixTime <= end\n",
        "\n",
        "\n",
        "def filterByDate(dateRange, events):\n",
        "   filteredCalls = [e for e in events if inRange(dateRange, e['date'])]\n",
        "   print(\"%d calls after filtering by date\" % len(filteredCalls))\n",
        "   return filteredCalls\n",
        "\n",
        "\n",
        "def writeCallEvents(callEventDicts, filename):\n",
        "   with open(filename, 'w') as outfile:\n",
        "      outfile.write('subjectId\\totherPartyId\\tduration\\tdirection\\tdate\\n')\n",
        "      for d in callEventDicts:\n",
        "         values = [d['subjectId'], d['otherPartyId'], d['duration'], d['direction'], d['date']]\n",
        "         line = '\\t'.join((\"%s\" % (v,)) for v in values)\n",
        "         outfile.write('%s\\n' % line)\n",
        "\n",
        "\n",
        "def createPhoneCallDataset(idDictionaries):\n",
        "   startDate = 1095984000\n",
        "   endDate = 1105142400\n",
        "\n",
        "   # this data contains the subject records as well\n",
        "   idDict, macDict, hashNumDict = idDictionaries\n",
        "\n",
        "   print(\"Extracting intra-study calls...\")\n",
        "   calls = callsWithinStudy(allCommEvents(idDict), hashNumDict)\n",
        "\n",
        "   print(\"Converting call events to a reasonable format...\")\n",
        "   convertedCallEvents = processCallEvents(calls, hashNumDict)\n",
        "\n",
        "   print(\"Filtering calls within the given date range...\")\n",
        "   callsToWrite = filterByDate((startDate, endDate), convertedCallEvents)\n",
        "\n",
        "   print(\"Writing the calls to reality-mining-calls.txt...\")\n",
        "   writeCallEvents(callsToWrite, 'reality-mining-calls.txt')\n",
        "\n",
        "\n",
        "# survey values are either numeric or numpy.nan, so we need special\n",
        "# functions to account for means/maxes involving nan.\n",
        "def mean(x, y):\n",
        "   if numpy.isnan(x):\n",
        "      return mean(0, y)\n",
        "   if numpy.isnan(y):\n",
        "      return mean(x, 0)\n",
        "\n",
        "   return float(x + y) / 2\n",
        "\n",
        "\n",
        "def myMax(x, y):\n",
        "   if numpy.isnan(x):\n",
        "      return myMax(0, y)\n",
        "   if numpy.isnan(y):\n",
        "      return myMax(x, 0)\n",
        "\n",
        "   return max(x,y)\n",
        "\n",
        "\n",
        "# For simplicity: take the avg of estimates, and the max of the friendship reporting\n",
        "def getSurveyResponse(network, id1, id2):\n",
        "   friends = myMax(network['friends'][id1][id2], network['friends'][id2][id1])\n",
        "   inLabProximity = mean(network['lab'][id1][id2], network['lab'][id2][id1])\n",
        "   outLabProximity = mean(network['outlab'][id1][id2], network['outlab'][id2][id1])\n",
        "\n",
        "   return (id1, id2, friends, inLabProximity, outLabProximity)\n",
        "\n",
        "\n",
        "def writeSurveyEvents(surveyRecords, filename):\n",
        "   with open(filename, 'w') as outfile:\n",
        "      outfile.write('id1\\tid2\\tclose-friends?\\tinlab-proximity\\toutlab-proximity\\n')\n",
        "      for values in surveyRecords:\n",
        "         line = '\\t'.join((\"%s\" % (v,)) for v in values)\n",
        "         outfile.write('%s\\n' % line)\n",
        "\n",
        "\n",
        "def createFriendshipDataset(networkObj, idDictionaries):\n",
        "   idDict, macDict, hashNumDict = idDictionaries\n",
        "\n",
        "   networkIdDict = dict((i, (hashNum, hashNumDict[hashNum][0]))\n",
        "         for i,hashNum in enumerate(getArray(networkObj, 'sub_sort'))\n",
        "         if hashNum in hashNumDict) # this guarantees the subject is valid\n",
        "\n",
        "   convertId = lambda i: networkIdDict[i][1]\n",
        "\n",
        "   print(\"Creating network survey dataset (friendship/proximity/close friends)\")\n",
        "   networkSurvey = [getSurveyResponse(networkObj,i,j)\n",
        "         for i,j in itertools.combinations(networkIdDict.keys(), 2)]\n",
        "\n",
        "   print(\"Converting ids\")\n",
        "   convertedNetworkSurvey = [(convertId(x[0]), convertId(x[1]), x[2], x[3], x[4])\n",
        "         for x in networkSurvey if x[2] != 0 or x[3] != 0 or x[4] != 0]\n",
        "\n",
        "   print(\"Writing the survey data to reality-mining-survey.txt\")\n",
        "   writeSurveyEvents(convertedNetworkSurvey, 'reality-mining-survey.txt')\n",
        "\n",
        "\n",
        "# turn each (date, tower) pair into a (dateInterval, tower) pair\n",
        "# so we can compute the amount of time spent within one tower range,\n",
        "# or the overlap of two people in the same tower rage.\n",
        "def makeCellTowerIntervals(subject):\n",
        "   events = subject['locs']\n",
        "   dt = convertDatetime\n",
        "   return [((dt(events[i][0]), dt(events[i+1][0])), events[i][1])\n",
        "           for i in range(len(events) - 1) if events[i][1] > 0] # condition ensures there was signal\n",
        "\n",
        "\n",
        "def dateIntervalOverlap(dtint1, dtint2):\n",
        "   start1, end1 = dtint1\n",
        "   start2, end2 = dtint2\n",
        "\n",
        "   if start1 <= start2 <= end1:\n",
        "      return (start2, min(end1, end2))\n",
        "   elif start2 <= start1 <= end2:\n",
        "      return (start1, min(end1, end2))\n",
        "   else:\n",
        "      return None\n",
        "\n",
        "\n",
        "def listProximityEvents(intervals1, intervals2):\n",
        "   if len(intervals1) == 0 or len(intervals2) == 0:\n",
        " #     print(\"Found an empty interval list?\")\n",
        "      return []\n",
        "\n",
        "   D1, D2 = deque(intervals1), deque(intervals2)\n",
        "   events = deque()\n",
        "\n",
        " #  print('Processing new pairs of intervals')\n",
        "   dateInterval1, towerId1 = D1.popleft()\n",
        "   dateInterval2, towerId2 = D2.popleft()\n",
        "   while len(D1) > 0 and len(D2) > 0:\n",
        "      if dateInterval2[0] >= dateInterval1[1]:\n",
        "         dateInterval1, towerId1 = D1.popleft()\n",
        "      elif dateInterval1[0] >= dateInterval2[1]:\n",
        "         dateInterval2, towerId2 = D2.popleft()\n",
        "      else:\n",
        "         if towerId1 == towerId2:\n",
        "            theOverlap = dateIntervalOverlap(dateInterval1, dateInterval2)\n",
        "            if (theOverlap[1] - theOverlap[0]).total_seconds() > 1:  \n",
        "               events.append((theOverlap, towerId1))\n",
        "               #print('Found a match! %s, %s at tower %s' % (theOverlap[0], theOverlap[1], towerId1))\n",
        "\n",
        "         if dateInterval1[0] < dateInterval2[0]:\n",
        "            dateInterval1, towerId1 = D1.popleft()\n",
        "         else:\n",
        "            dateInterval2, towerId2 = D2.popleft()\n",
        "\n",
        "   return events\n",
        "\n",
        "\n",
        "def writeProximityEvents(proxEventsDict, filename):\n",
        "   with open(filename, 'w') as outfile:\n",
        "      outfile.write('id1\\tid2\\tcellTower\\tstart\\tend\\n')\n",
        "      for k in proxEventsDict:\n",
        "         id1, id2 = k\n",
        "         for event in proxEventsDict[k]:\n",
        "            values = [id1, id2, event[1], event[0][0], event[0][1]]\n",
        "            line = '\\t'.join((\"%s\" % (v,)) for v in values)\n",
        "            outfile.write('%s\\n' % line)\n",
        "\n",
        "\n",
        "def createCellTowerDataset(idDictionaries):\n",
        "   idDict, macDict, hashNumDict = idDictionaries\n",
        "\n",
        "   print(\"Making cell tower intervals.\")\n",
        "   cellTowerIntervals = dict((i, makeCellTowerIntervals(idDict[i])) for i in idDict)\n",
        "\n",
        "   print(\"Computing cell tower proximity events.\")\n",
        "   proximityEvents = dict(((i, j), listProximityEvents(cellTowerIntervals[i], cellTowerIntervals[j]))\n",
        "         for i,j in itertools.combinations(cellTowerIntervals.keys(), 2))\n",
        "\n",
        "   print(\"Writing proximity events to reality-mining-proximity.txt\")\n",
        "   writeProximityEvents(proximityEvents, 'reality-mining-proximity.txt')\n",
        "\n",
        "\n",
        "if __name__ == \"__main__\":\n",
        "   matlab_filename = sys.argv[1]\n",
        "   print(\"Loading in matlab data - this takes a while and about 2gb memory\")\n",
        "   matlab_obj = scipy.io.loadmat(\"realitymining.mat\")\n",
        "   print(\"Done loading matlab data.\")\n",
        "\n",
        "   print('Extracting valid subjects and creating id dictionaries.')\n",
        "   subjects = validSubjects(matlab_obj['s'][0])\n",
        "   idDictionaries = idDicts(subjects)\n",
        "\n",
        "   #uncomment the following lines to get the Dataset you want\n",
        "\n",
        "   #createFriendshipDataset(matlab_obj['network'][0][0], idDictionaries)\n",
        "   #createPhoneCallDataset(idDictionaries)\n",
        "   #createCellTowerDataset(idDictionaries)\n",
        "\n",
        "   print(\"Cleaning up...\")\n",
        "\n"
      ],
      "metadata": {
        "id": "qNGFeYUTY7GJ",
        "colab": {
          "base_uri": "https://localhost:8080/"
        },
        "outputId": "1dd9dc53-03d5-47d1-e77c-7c1b099432c4"
      },
      "execution_count": null,
      "outputs": [
        {
          "output_type": "stream",
          "name": "stdout",
          "text": [
            "Loading in matlab data - this takes a while and about 2gb memory\n",
            "Done loading matlab data.\n",
            "Extracting valid subjects and creating id dictionaries.\n",
            "Cleaning up...\n"
          ]
        }
      ]
    },
    {
      "cell_type": "code",
      "source": [
        "#création of the labels\n",
        "\n",
        "\n",
        "labels=['empty']*90\n",
        "\n",
        "for i in range(90):\n",
        "  labels[i]=subjects[i]['my_affil'][0][0]\n",
        "\n",
        "labels=np.array(labels)\n"
      ],
      "metadata": {
        "id": "iBqlF5adri2A"
      },
      "execution_count": null,
      "outputs": []
    },
    {
      "cell_type": "code",
      "source": [
        "#Création de la matrice d'appels\n",
        "calls=np.loadtxt('reality-mining-calls.txt',delimiter='\\t', skiprows=1, dtype=float, usecols=(0,1))"
      ],
      "metadata": {
        "id": "GK_syt2hdtwW"
      },
      "execution_count": null,
      "outputs": []
    },
    {
      "cell_type": "code",
      "source": [
        "#n nombre de personnes dans l'étude\n",
        "n=len(calls)\n",
        "matrix_calls=np.zeros((90,90))\n",
        "\n",
        "for i in range(n):\n",
        "    if not(calls[i,0]==calls[i,1]):\n",
        "      matrix_calls[int(calls[i,0]), int(calls[i,1])]=1\n",
        "      matrix_calls[int(calls[i,1]), int(calls[i,0])]=1"
      ],
      "metadata": {
        "id": "kWCR1i9WeS3C"
      },
      "execution_count": null,
      "outputs": []
    },
    {
      "cell_type": "code",
      "source": [
        "plt.imshow(matrix_calls, cmap='gray',vmin = 0, vmax = 1)"
      ],
      "metadata": {
        "colab": {
          "base_uri": "https://localhost:8080/",
          "height": 286
        },
        "id": "o04Fp_mCfkpy",
        "outputId": "0c633834-66b7-41b6-d209-a98282cfaff5"
      },
      "execution_count": null,
      "outputs": [
        {
          "output_type": "execute_result",
          "data": {
            "text/plain": [
              "<matplotlib.image.AxesImage at 0x7fb8454ecbb0>"
            ]
          },
          "metadata": {},
          "execution_count": 35
        },
        {
          "output_type": "display_data",
          "data": {
            "text/plain": [
              "<Figure size 432x288 with 1 Axes>"
            ],
            "image/png": "[encoded data removed]"
          },
          "metadata": {
            "needs_background": "light"
          }
        }
      ]
    },
    {
      "cell_type": "code",
      "source": [
        "# Proximity matrix\n",
        "proximity=np.loadtxt('reality-mining-proximity.txt',delimiter='\\t', skiprows=1, dtype=float, usecols=(0,1))\n",
        "n=len(proximity)\n",
        "matrix_proximity=np.zeros((90,90))\n",
        "\n",
        "for i in range(n):\n",
        "      matrix_proximity[int(proximity[i,0]), int(proximity[i,1])]=1\n",
        "      matrix_proximity[int(proximity[i,1]),int(proximity[i,0])]=1"
      ],
      "metadata": {
        "id": "Nbg5M_rp8g3v"
      },
      "execution_count": null,
      "outputs": []
    },
    {
      "cell_type": "code",
      "source": [
        "plt.imshow(matrix_proximity, cmap='gray',vmin = 0, vmax = 1)"
      ],
      "metadata": {
        "colab": {
          "base_uri": "https://localhost:8080/",
          "height": 286
        },
        "id": "9SvTOdE49uvl",
        "outputId": "180f66a3-7bc8-4cc1-e185-0b217c7ad4be"
      },
      "execution_count": null,
      "outputs": [
        {
          "output_type": "execute_result",
          "data": {
            "text/plain": [
              "<matplotlib.image.AxesImage at 0x7fb0ebaace20>"
            ]
          },
          "metadata": {},
          "execution_count": 8
        },
        {
          "output_type": "display_data",
          "data": {
            "text/plain": [
              "<Figure size 432x288 with 1 Axes>"
            ],
            "image/png": "[encoded data removed]"
          },
          "metadata": {
            "needs_background": "light"
          }
        }
      ]
    },
    {
      "cell_type": "code",
      "source": [
        "#friendship matrix\n",
        "friendship=np.loadtxt('reality-mining-survey.txt',delimiter='\\t', skiprows=1, dtype=float, usecols=(0,1,2))"
      ],
      "metadata": {
        "id": "3uGygPUiJH_D"
      },
      "execution_count": null,
      "outputs": []
    },
    {
      "cell_type": "code",
      "source": [
        "matrix_friendship=np.zeros((90,90))\n",
        "n=len(friendship)\n",
        "\n",
        "for i in range(n):\n",
        "  if friendship[i,2]==1: \n",
        "    matrix_friendship[int(friendship[i,0]),int(friendship[i,1])]=1\n",
        "    matrix_friendship[int(friendship[i,1]),int(friendship[i,0])]=1"
      ],
      "metadata": {
        "id": "L5aFnbVMJiKq"
      },
      "execution_count": null,
      "outputs": []
    },
    {
      "cell_type": "code",
      "source": [
        "plt.imshow(matrix_friendship, cmap='gray',vmin = 0, vmax = 1)"
      ],
      "metadata": {
        "colab": {
          "base_uri": "https://localhost:8080/",
          "height": 286
        },
        "id": "4iyVyKDdJ42d",
        "outputId": "44461b41-a0aa-47e4-b9a1-6bec1b8b62c1"
      },
      "execution_count": null,
      "outputs": [
        {
          "output_type": "execute_result",
          "data": {
            "text/plain": [
              "<matplotlib.image.AxesImage at 0x7f2ef6d23490>"
            ]
          },
          "metadata": {},
          "execution_count": 286
        },
        {
          "output_type": "display_data",
          "data": {
            "text/plain": [
              "<Figure size 432x288 with 1 Axes>"
            ],
            "image/png": "[encoded data removed]"
          },
          "metadata": {
            "needs_background": "light"
          }
        }
      ]
    },
    {
      "cell_type": "code",
      "source": [
        "all_labels=all_labels[0:105]"
      ],
      "metadata": {
        "id": "6hzxO33_jRmW"
      },
      "execution_count": null,
      "outputs": []
    },
    {
      "cell_type": "code",
      "source": [
        "np.savetxt('true_labels.txt',all_labels,fmt=\"%s\")"
      ],
      "metadata": {
        "id": "Q7gE8WkNWCCX"
      },
      "execution_count": null,
      "outputs": []
    },
    {
      "cell_type": "markdown",
      "source": [
        "#Cora"
      ],
      "metadata": {
        "id": "nBtrOhFXuMyo"
      }
    },
    {
      "cell_type": "markdown",
      "source": [
        "La cellule suivante est la seule à modifier si on veut régler le nombre de données (=nombre d'articles) qu'on veut avoir."
      ],
      "metadata": {
        "id": "qg7_CzgmOk_h"
      }
    },
    {
      "cell_type": "code",
      "source": [
        "#pour avoir environ 2*N_max données\n",
        "N_max= 20"
      ],
      "metadata": {
        "id": "VUrCmKpvsfRp"
      },
      "execution_count": null,
      "outputs": []
    },
    {
      "cell_type": "code",
      "source": [
        "data_dir = os.path.expanduser(\"~/data/cora\")"
      ],
      "metadata": {
        "id": "tOtV0gdGrJ2x"
      },
      "execution_count": null,
      "outputs": []
    },
    {
      "cell_type": "code",
      "source": [
        "# On récupères les edges, les papiers du dataset. \n",
        "\n",
        "edgelist = pd.read_csv(\"cora.cites\", sep='\\t', header=None, names=[\"target\", \"source\"])\n",
        "edgelist[\"label\"] = \"cites\""
      ],
      "metadata": {
        "id": "bDRXX9ovreZk"
      },
      "execution_count": null,
      "outputs": []
    },
    {
      "cell_type": "code",
      "source": [
        "edgelist.sample(frac=1).head(5)  #ici on a la table des citations, le papier 'source' cite le papier 'target'"
      ],
      "metadata": {
        "colab": {
          "base_uri": "https://localhost:8080/",
          "height": 206
        },
        "id": "8YjWtp-fsR2v",
        "outputId": "d7591507-88d6-4e7c-e9f1-c572a28b4714"
      },
      "execution_count": null,
      "outputs": [
        {
          "output_type": "execute_result",
          "data": {
            "text/plain": [
              "      target   source  label\n",
              "4771  289780  1153784  cites\n",
              "2818   33907  1136814  cites\n",
              "251      887  1111304  cites\n",
              "2622   28359    35863  cites\n",
              "1598    8703      434  cites"
            ],
            "text/html": [
              "\n",
              "  <div id=\"df-23c21bce-b8ce-4178-a2f5-b0be8013b561\">\n",
              "    <div class=\"colab-df-container\">\n",
              "      <div>\n",
              "<style scoped>\n",
              "    .dataframe tbody tr th:only-of-type {\n",
              "        vertical-align: middle;\n",
              "    }\n",
              "\n",
              "    .dataframe tbody tr th {\n",
              "        vertical-align: top;\n",
              "    }\n",
              "\n",
              "    .dataframe thead th {\n",
              "        text-align: right;\n",
              "    }\n",
              "</style>\n",
              "<table border=\"1\" class=\"dataframe\">\n",
              "  <thead>\n",
              "    <tr style=\"text-align: right;\">\n",
              "      <th></th>\n",
              "      <th>target</th>\n",
              "      <th>source</th>\n",
              "      <th>label</th>\n",
              "    </tr>\n",
              "  </thead>\n",
              "  <tbody>\n",
              "    <tr>\n",
              "      <th>4771</th>\n",
              "      <td>289780</td>\n",
              "      <td>1153784</td>\n",
              "      <td>cites</td>\n",
              "    </tr>\n",
              "    <tr>\n",
              "      <th>2818</th>\n",
              "      <td>33907</td>\n",
              "      <td>1136814</td>\n",
              "      <td>cites</td>\n",
              "    </tr>\n",
              "    <tr>\n",
              "      <th>251</th>\n",
              "      <td>887</td>\n",
              "      <td>1111304</td>\n",
              "      <td>cites</td>\n",
              "    </tr>\n",
              "    <tr>\n",
              "      <th>2622</th>\n",
              "      <td>28359</td>\n",
              "      <td>35863</td>\n",
              "      <td>cites</td>\n",
              "    </tr>\n",
              "    <tr>\n",
              "      <th>1598</th>\n",
              "      <td>8703</td>\n",
              "      <td>434</td>\n",
              "      <td>cites</td>\n",
              "    </tr>\n",
              "  </tbody>\n",
              "</table>\n",
              "</div>\n",
              "      <button class=\"colab-df-convert\" onclick=\"convertToInteractive('df-23c21bce-b8ce-4178-a2f5-b0be8013b561')\"\n",
              "              title=\"Convert this dataframe to an interactive table.\"\n",
              "              style=\"display:none;\">\n",
              "        \n",
              "  <svg xmlns=\"http://www.w3.org/2000/svg\" height=\"24px\"viewBox=\"0 0 24 24\"\n",
              "       width=\"24px\">\n",
              "    <path d=\"M0 0h24v24H0V0z\" fill=\"none\"/>\n",
              "    <path d=\"M18.56 5.44l.94 2.06.94-2.06 2.06-.94-2.06-.94-.94-2.06-.94 2.06-2.06.94zm-11 1L8.5 8.5l.94-2.06 2.06-.94-2.06-.94L8.5 2.5l-.94 2.06-2.06.94zm10 10l.94 2.06.94-2.06 2.06-.94-2.06-.94-.94-2.06-.94 2.06-2.06.94z\"/><path d=\"M17.41 7.96l-1.37-1.37c-.4-.4-.92-.59-1.43-.59-.52 0-1.04.2-1.43.59L10.3 9.45l-7.72 7.72c-.78.78-.78 2.05 0 2.83L4 21.41c.39.39.9.59 1.41.59.51 0 1.02-.2 1.41-.59l7.78-7.78 2.81-2.81c.8-.78.8-2.07 0-2.86zM5.41 20L4 18.59l7.72-7.72 1.47 1.35L5.41 20z\"/>\n",
              "  </svg>\n",
              "      </button>\n",
              "      \n",
              "  <style>\n",
              "    .colab-df-container {\n",
              "      display:flex;\n",
              "      flex-wrap:wrap;\n",
              "      gap: 12px;\n",
              "    }\n",
              "\n",
              "    .colab-df-convert {\n",
              "      background-color: #E8F0FE;\n",
              "      border: none;\n",
              "      border-radius: 50%;\n",
              "      cursor: pointer;\n",
              "      display: none;\n",
              "      fill: #1967D2;\n",
              "      height: 32px;\n",
              "      padding: 0 0 0 0;\n",
              "      width: 32px;\n",
              "    }\n",
              "\n",
              "    .colab-df-convert:hover {\n",
              "      background-color: #E2EBFA;\n",
              "      box-shadow: 0px 1px 2px rgba(60, 64, 67, 0.3), 0px 1px 3px 1px rgba(60, 64, 67, 0.15);\n",
              "      fill: #174EA6;\n",
              "    }\n",
              "\n",
              "    [theme=dark] .colab-df-convert {\n",
              "      background-color: #3B4455;\n",
              "      fill: #D2E3FC;\n",
              "    }\n",
              "\n",
              "    [theme=dark] .colab-df-convert:hover {\n",
              "      background-color: #434B5C;\n",
              "      box-shadow: 0px 1px 3px 1px rgba(0, 0, 0, 0.15);\n",
              "      filter: drop-shadow(0px 1px 2px rgba(0, 0, 0, 0.3));\n",
              "      fill: #FFFFFF;\n",
              "    }\n",
              "  </style>\n",
              "\n",
              "      <script>\n",
              "        const buttonEl =\n",
              "          document.querySelector('#df-23c21bce-b8ce-4178-a2f5-b0be8013b561 button.colab-df-convert');\n",
              "        buttonEl.style.display =\n",
              "          google.colab.kernel.accessAllowed ? 'block' : 'none';\n",
              "\n",
              "        async function convertToInteractive(key) {\n",
              "          const element = document.querySelector('#df-23c21bce-b8ce-4178-a2f5-b0be8013b561');\n",
              "          const dataTable =\n",
              "            await google.colab.kernel.invokeFunction('convertToInteractive',\n",
              "                                                     [key], {});\n",
              "          if (!dataTable) return;\n",
              "\n",
              "          const docLinkHtml = 'Like what you see? Visit the ' +\n",
              "            '<a target=\"_blank\" href=https://colab.research.google.com/notebooks/data_table.ipynb>data table notebook</a>'\n",
              "            + ' to learn more about interactive tables.';\n",
              "          element.innerHTML = '';\n",
              "          dataTable['output_type'] = 'display_data';\n",
              "          await google.colab.output.renderOutput(dataTable, element);\n",
              "          const docLink = document.createElement('div');\n",
              "          docLink.innerHTML = docLinkHtml;\n",
              "          element.appendChild(docLink);\n",
              "        }\n",
              "      </script>\n",
              "    </div>\n",
              "  </div>\n",
              "  "
            ]
          },
          "metadata": {},
          "execution_count": 29
        }
      ]
    },
    {
      "cell_type": "code",
      "source": [
        "feature_names = [\"w_{}\".format(ii) for ii in range(1433)]\n",
        "column_names =  feature_names + [\"subject\"]\n",
        "node_data = pd.read_csv(\"cora.content\", sep='\\t', header=None, names=column_names)"
      ],
      "metadata": {
        "id": "UfJpN74puJ2B"
      },
      "execution_count": null,
      "outputs": []
    },
    {
      "cell_type": "code",
      "source": [
        "node_data  # les colonnes w_ décrivent l'occurence des mots "
      ],
      "metadata": {
        "colab": {
          "base_uri": "https://localhost:8080/",
          "height": 487
        },
        "id": "hfUuDZWxuWjb",
        "outputId": "63c58bc8-7414-4eaf-85e2-2b7a6c28569f"
      },
      "execution_count": null,
      "outputs": [
        {
          "output_type": "execute_result",
          "data": {
            "text/plain": [
              "         w_0  w_1  w_2  w_3  w_4  w_5  w_6  w_7  w_8  w_9  ...  w_1424  \\\n",
              "31336      0    0    0    0    0    0    0    0    0    0  ...       0   \n",
              "1061127    0    0    0    0    0    0    0    0    0    0  ...       0   \n",
              "1106406    0    0    0    0    0    0    0    0    0    0  ...       0   \n",
              "13195      0    0    0    0    0    0    0    0    0    0  ...       0   \n",
              "37879      0    0    0    0    0    0    0    0    0    0  ...       0   \n",
              "...      ...  ...  ...  ...  ...  ...  ...  ...  ...  ...  ...     ...   \n",
              "1128975    0    0    0    0    0    0    0    0    0    0  ...       0   \n",
              "1128977    0    0    0    0    0    0    0    0    0    0  ...       0   \n",
              "1128978    0    0    0    0    0    0    0    0    0    0  ...       0   \n",
              "117328     0    0    0    0    1    0    0    0    0    0  ...       0   \n",
              "24043      0    0    0    0    0    0    0    0    0    0  ...       0   \n",
              "\n",
              "         w_1425  w_1426  w_1427  w_1428  w_1429  w_1430  w_1431  w_1432  \\\n",
              "31336         0       1       0       0       0       0       0       0   \n",
              "1061127       1       0       0       0       0       0       0       0   \n",
              "1106406       0       0       0       0       0       0       0       0   \n",
              "13195         0       0       0       0       0       0       0       0   \n",
              "37879         0       0       0       0       0       0       0       0   \n",
              "...         ...     ...     ...     ...     ...     ...     ...     ...   \n",
              "1128975       0       0       0       0       0       0       0       0   \n",
              "1128977       0       0       0       0       0       0       0       0   \n",
              "1128978       0       0       0       0       0       0       0       0   \n",
              "117328        0       0       0       0       0       0       0       0   \n",
              "24043         0       0       0       0       0       0       0       0   \n",
              "\n",
              "                        subject  \n",
              "31336           Neural_Networks  \n",
              "1061127           Rule_Learning  \n",
              "1106406  Reinforcement_Learning  \n",
              "13195    Reinforcement_Learning  \n",
              "37879     Probabilistic_Methods  \n",
              "...                         ...  \n",
              "1128975      Genetic_Algorithms  \n",
              "1128977      Genetic_Algorithms  \n",
              "1128978      Genetic_Algorithms  \n",
              "117328               Case_Based  \n",
              "24043           Neural_Networks  \n",
              "\n",
              "[2708 rows x 1434 columns]"
            ],
            "text/html": [
              "\n",
              "  <div id=\"df-3535541a-c6d5-4cfe-b76b-475725005e87\">\n",
              "    <div class=\"colab-df-container\">\n",
              "      <div>\n",
              "<style scoped>\n",
              "    .dataframe tbody tr th:only-of-type {\n",
              "        vertical-align: middle;\n",
              "    }\n",
              "\n",
              "    .dataframe tbody tr th {\n",
              "        vertical-align: top;\n",
              "    }\n",
              "\n",
              "    .dataframe thead th {\n",
              "        text-align: right;\n",
              "    }\n",
              "</style>\n",
              "<table border=\"1\" class=\"dataframe\">\n",
              "  <thead>\n",
              "    <tr style=\"text-align: right;\">\n",
              "      <th></th>\n",
              "      <th>w_0</th>\n",
              "      <th>w_1</th>\n",
              "      <th>w_2</th>\n",
              "      <th>w_3</th>\n",
              "      <th>w_4</th>\n",
              "      <th>w_5</th>\n",
              "      <th>w_6</th>\n",
              "      <th>w_7</th>\n",
              "      <th>w_8</th>\n",
              "      <th>w_9</th>\n",
              "      <th>...</th>\n",
              "      <th>w_1424</th>\n",
              "      <th>w_1425</th>\n",
              "      <th>w_1426</th>\n",
              "      <th>w_1427</th>\n",
              "      <th>w_1428</th>\n",
              "      <th>w_1429</th>\n",
              "      <th>w_1430</th>\n",
              "      <th>w_1431</th>\n",
              "      <th>w_1432</th>\n",
              "      <th>subject</th>\n",
              "    </tr>\n",
              "  </thead>\n",
              "  <tbody>\n",
              "    <tr>\n",
              "      <th>31336</th>\n",
              "      <td>0</td>\n",
              "      <td>0</td>\n",
              "      <td>0</td>\n",
              "      <td>0</td>\n",
              "      <td>0</td>\n",
              "      <td>0</td>\n",
              "      <td>0</td>\n",
              "      <td>0</td>\n",
              "      <td>0</td>\n",
              "      <td>0</td>\n",
              "      <td>...</td>\n",
              "      <td>0</td>\n",
              "      <td>0</td>\n",
              "      <td>1</td>\n",
              "      <td>0</td>\n",
              "      <td>0</td>\n",
              "      <td>0</td>\n",
              "      <td>0</td>\n",
              "      <td>0</td>\n",
              "      <td>0</td>\n",
              "      <td>Neural_Networks</td>\n",
              "    </tr>\n",
              "    <tr>\n",
              "      <th>1061127</th>\n",
              "      <td>0</td>\n",
              "      <td>0</td>\n",
              "      <td>0</td>\n",
              "      <td>0</td>\n",
              "      <td>0</td>\n",
              "      <td>0</td>\n",
              "      <td>0</td>\n",
              "      <td>0</td>\n",
              "      <td>0</td>\n",
              "      <td>0</td>\n",
              "      <td>...</td>\n",
              "      <td>0</td>\n",
              "      <td>1</td>\n",
              "      <td>0</td>\n",
              "      <td>0</td>\n",
              "      <td>0</td>\n",
              "      <td>0</td>\n",
              "      <td>0</td>\n",
              "      <td>0</td>\n",
              "      <td>0</td>\n",
              "      <td>Rule_Learning</td>\n",
              "    </tr>\n",
              "    <tr>\n",
              "      <th>1106406</th>\n",
              "      <td>0</td>\n",
              "      <td>0</td>\n",
              "      <td>0</td>\n",
              "      <td>0</td>\n",
              "      <td>0</td>\n",
              "      <td>0</td>\n",
              "      <td>0</td>\n",
              "      <td>0</td>\n",
              "      <td>0</td>\n",
              "      <td>0</td>\n",
              "      <td>...</td>\n",
              "      <td>0</td>\n",
              "      <td>0</td>\n",
              "      <td>0</td>\n",
              "      <td>0</td>\n",
              "      <td>0</td>\n",
              "      <td>0</td>\n",
              "      <td>0</td>\n",
              "      <td>0</td>\n",
              "      <td>0</td>\n",
              "      <td>Reinforcement_Learning</td>\n",
              "    </tr>\n",
              "    <tr>\n",
              "      <th>13195</th>\n",
              "      <td>0</td>\n",
              "      <td>0</td>\n",
              "      <td>0</td>\n",
              "      <td>0</td>\n",
              "      <td>0</td>\n",
              "      <td>0</td>\n",
              "      <td>0</td>\n",
              "      <td>0</td>\n",
              "      <td>0</td>\n",
              "      <td>0</td>\n",
              "      <td>...</td>\n",
              "      <td>0</td>\n",
              "      <td>0</td>\n",
              "      <td>0</td>\n",
              "      <td>0</td>\n",
              "      <td>0</td>\n",
              "      <td>0</td>\n",
              "      <td>0</td>\n",
              "      <td>0</td>\n",
              "      <td>0</td>\n",
              "      <td>Reinforcement_Learning</td>\n",
              "    </tr>\n",
              "    <tr>\n",
              "      <th>37879</th>\n",
              "      <td>0</td>\n",
              "      <td>0</td>\n",
              "      <td>0</td>\n",
              "      <td>0</td>\n",
              "      <td>0</td>\n",
              "      <td>0</td>\n",
              "      <td>0</td>\n",
              "      <td>0</td>\n",
              "      <td>0</td>\n",
              "      <td>0</td>\n",
              "      <td>...</td>\n",
              "      <td>0</td>\n",
              "      <td>0</td>\n",
              "      <td>0</td>\n",
              "      <td>0</td>\n",
              "      <td>0</td>\n",
              "      <td>0</td>\n",
              "      <td>0</td>\n",
              "      <td>0</td>\n",
              "      <td>0</td>\n",
              "      <td>Probabilistic_Methods</td>\n",
              "    </tr>\n",
              "    <tr>\n",
              "      <th>...</th>\n",
              "      <td>...</td>\n",
              "      <td>...</td>\n",
              "      <td>...</td>\n",
              "      <td>...</td>\n",
              "      <td>...</td>\n",
              "      <td>...</td>\n",
              "      <td>...</td>\n",
              "      <td>...</td>\n",
              "      <td>...</td>\n",
              "      <td>...</td>\n",
              "      <td>...</td>\n",
              "      <td>...</td>\n",
              "      <td>...</td>\n",
              "      <td>...</td>\n",
              "      <td>...</td>\n",
              "      <td>...</td>\n",
              "      <td>...</td>\n",
              "      <td>...</td>\n",
              "      <td>...</td>\n",
              "      <td>...</td>\n",
              "      <td>...</td>\n",
              "    </tr>\n",
              "    <tr>\n",
              "      <th>1128975</th>\n",
              "      <td>0</td>\n",
              "      <td>0</td>\n",
              "      <td>0</td>\n",
              "      <td>0</td>\n",
              "      <td>0</td>\n",
              "      <td>0</td>\n",
              "      <td>0</td>\n",
              "      <td>0</td>\n",
              "      <td>0</td>\n",
              "      <td>0</td>\n",
              "      <td>...</td>\n",
              "      <td>0</td>\n",
              "      <td>0</td>\n",
              "      <td>0</td>\n",
              "      <td>0</td>\n",
              "      <td>0</td>\n",
              "      <td>0</td>\n",
              "      <td>0</td>\n",
              "      <td>0</td>\n",
              "      <td>0</td>\n",
              "      <td>Genetic_Algorithms</td>\n",
              "    </tr>\n",
              "    <tr>\n",
              "      <th>1128977</th>\n",
              "      <td>0</td>\n",
              "      <td>0</td>\n",
              "      <td>0</td>\n",
              "      <td>0</td>\n",
              "      <td>0</td>\n",
              "      <td>0</td>\n",
              "      <td>0</td>\n",
              "      <td>0</td>\n",
              "      <td>0</td>\n",
              "      <td>0</td>\n",
              "      <td>...</td>\n",
              "      <td>0</td>\n",
              "      <td>0</td>\n",
              "      <td>0</td>\n",
              "      <td>0</td>\n",
              "      <td>0</td>\n",
              "      <td>0</td>\n",
              "      <td>0</td>\n",
              "      <td>0</td>\n",
              "      <td>0</td>\n",
              "      <td>Genetic_Algorithms</td>\n",
              "    </tr>\n",
              "    <tr>\n",
              "      <th>1128978</th>\n",
              "      <td>0</td>\n",
              "      <td>0</td>\n",
              "      <td>0</td>\n",
              "      <td>0</td>\n",
              "      <td>0</td>\n",
              "      <td>0</td>\n",
              "      <td>0</td>\n",
              "      <td>0</td>\n",
              "      <td>0</td>\n",
              "      <td>0</td>\n",
              "      <td>...</td>\n",
              "      <td>0</td>\n",
              "      <td>0</td>\n",
              "      <td>0</td>\n",
              "      <td>0</td>\n",
              "      <td>0</td>\n",
              "      <td>0</td>\n",
              "      <td>0</td>\n",
              "      <td>0</td>\n",
              "      <td>0</td>\n",
              "      <td>Genetic_Algorithms</td>\n",
              "    </tr>\n",
              "    <tr>\n",
              "      <th>117328</th>\n",
              "      <td>0</td>\n",
              "      <td>0</td>\n",
              "      <td>0</td>\n",
              "      <td>0</td>\n",
              "      <td>1</td>\n",
              "      <td>0</td>\n",
              "      <td>0</td>\n",
              "      <td>0</td>\n",
              "      <td>0</td>\n",
              "      <td>0</td>\n",
              "      <td>...</td>\n",
              "      <td>0</td>\n",
              "      <td>0</td>\n",
              "      <td>0</td>\n",
              "      <td>0</td>\n",
              "      <td>0</td>\n",
              "      <td>0</td>\n",
              "      <td>0</td>\n",
              "      <td>0</td>\n",
              "      <td>0</td>\n",
              "      <td>Case_Based</td>\n",
              "    </tr>\n",
              "    <tr>\n",
              "      <th>24043</th>\n",
              "      <td>0</td>\n",
              "      <td>0</td>\n",
              "      <td>0</td>\n",
              "      <td>0</td>\n",
              "      <td>0</td>\n",
              "      <td>0</td>\n",
              "      <td>0</td>\n",
              "      <td>0</td>\n",
              "      <td>0</td>\n",
              "      <td>0</td>\n",
              "      <td>...</td>\n",
              "      <td>0</td>\n",
              "      <td>0</td>\n",
              "      <td>0</td>\n",
              "      <td>0</td>\n",
              "      <td>0</td>\n",
              "      <td>0</td>\n",
              "      <td>0</td>\n",
              "      <td>0</td>\n",
              "      <td>0</td>\n",
              "      <td>Neural_Networks</td>\n",
              "    </tr>\n",
              "  </tbody>\n",
              "</table>\n",
              "<p>2708 rows × 1434 columns</p>\n",
              "</div>\n",
              "      <button class=\"colab-df-convert\" onclick=\"convertToInteractive('df-3535541a-c6d5-4cfe-b76b-475725005e87')\"\n",
              "              title=\"Convert this dataframe to an interactive table.\"\n",
              "              style=\"display:none;\">\n",
              "        \n",
              "  <svg xmlns=\"http://www.w3.org/2000/svg\" height=\"24px\"viewBox=\"0 0 24 24\"\n",
              "       width=\"24px\">\n",
              "    <path d=\"M0 0h24v24H0V0z\" fill=\"none\"/>\n",
              "    <path d=\"M18.56 5.44l.94 2.06.94-2.06 2.06-.94-2.06-.94-.94-2.06-.94 2.06-2.06.94zm-11 1L8.5 8.5l.94-2.06 2.06-.94-2.06-.94L8.5 2.5l-.94 2.06-2.06.94zm10 10l.94 2.06.94-2.06 2.06-.94-2.06-.94-.94-2.06-.94 2.06-2.06.94z\"/><path d=\"M17.41 7.96l-1.37-1.37c-.4-.4-.92-.59-1.43-.59-.52 0-1.04.2-1.43.59L10.3 9.45l-7.72 7.72c-.78.78-.78 2.05 0 2.83L4 21.41c.39.39.9.59 1.41.59.51 0 1.02-.2 1.41-.59l7.78-7.78 2.81-2.81c.8-.78.8-2.07 0-2.86zM5.41 20L4 18.59l7.72-7.72 1.47 1.35L5.41 20z\"/>\n",
              "  </svg>\n",
              "      </button>\n",
              "      \n",
              "  <style>\n",
              "    .colab-df-container {\n",
              "      display:flex;\n",
              "      flex-wrap:wrap;\n",
              "      gap: 12px;\n",
              "    }\n",
              "\n",
              "    .colab-df-convert {\n",
              "      background-color: #E8F0FE;\n",
              "      border: none;\n",
              "      border-radius: 50%;\n",
              "      cursor: pointer;\n",
              "      display: none;\n",
              "      fill: #1967D2;\n",
              "      height: 32px;\n",
              "      padding: 0 0 0 0;\n",
              "      width: 32px;\n",
              "    }\n",
              "\n",
              "    .colab-df-convert:hover {\n",
              "      background-color: #E2EBFA;\n",
              "      box-shadow: 0px 1px 2px rgba(60, 64, 67, 0.3), 0px 1px 3px 1px rgba(60, 64, 67, 0.15);\n",
              "      fill: #174EA6;\n",
              "    }\n",
              "\n",
              "    [theme=dark] .colab-df-convert {\n",
              "      background-color: #3B4455;\n",
              "      fill: #D2E3FC;\n",
              "    }\n",
              "\n",
              "    [theme=dark] .colab-df-convert:hover {\n",
              "      background-color: #434B5C;\n",
              "      box-shadow: 0px 1px 3px 1px rgba(0, 0, 0, 0.15);\n",
              "      filter: drop-shadow(0px 1px 2px rgba(0, 0, 0, 0.3));\n",
              "      fill: #FFFFFF;\n",
              "    }\n",
              "  </style>\n",
              "\n",
              "      <script>\n",
              "        const buttonEl =\n",
              "          document.querySelector('#df-3535541a-c6d5-4cfe-b76b-475725005e87 button.colab-df-convert');\n",
              "        buttonEl.style.display =\n",
              "          google.colab.kernel.accessAllowed ? 'block' : 'none';\n",
              "\n",
              "        async function convertToInteractive(key) {\n",
              "          const element = document.querySelector('#df-3535541a-c6d5-4cfe-b76b-475725005e87');\n",
              "          const dataTable =\n",
              "            await google.colab.kernel.invokeFunction('convertToInteractive',\n",
              "                                                     [key], {});\n",
              "          if (!dataTable) return;\n",
              "\n",
              "          const docLinkHtml = 'Like what you see? Visit the ' +\n",
              "            '<a target=\"_blank\" href=https://colab.research.google.com/notebooks/data_table.ipynb>data table notebook</a>'\n",
              "            + ' to learn more about interactive tables.';\n",
              "          element.innerHTML = '';\n",
              "          dataTable['output_type'] = 'display_data';\n",
              "          await google.colab.output.renderOutput(dataTable, element);\n",
              "          const docLink = document.createElement('div');\n",
              "          docLink.innerHTML = docLinkHtml;\n",
              "          element.appendChild(docLink);\n",
              "        }\n",
              "      </script>\n",
              "    </div>\n",
              "  </div>\n",
              "  "
            ]
          },
          "metadata": {},
          "execution_count": 31
        }
      ]
    },
    {
      "cell_type": "code",
      "source": [
        "# les différents sujets des papiers\n",
        "\n",
        "set(node_data[\"subject\"])\n",
        "{'Case_Based',\n",
        " 'Genetic_Algorithms',\n",
        " 'Neural_Networks',\n",
        " 'Probabilistic_Methods',\n",
        " 'Reinforcement_Learning',\n",
        " 'Rule_Learning',\n",
        " 'Theory'}"
      ],
      "metadata": {
        "colab": {
          "base_uri": "https://localhost:8080/"
        },
        "id": "QuVRIwGWuaM1",
        "outputId": "2f316ed4-3632-4080-c6bf-ed71dc40466d"
      },
      "execution_count": null,
      "outputs": [
        {
          "output_type": "execute_result",
          "data": {
            "text/plain": [
              "{'Case_Based',\n",
              " 'Genetic_Algorithms',\n",
              " 'Neural_Networks',\n",
              " 'Probabilistic_Methods',\n",
              " 'Reinforcement_Learning',\n",
              " 'Rule_Learning',\n",
              " 'Theory'}"
            ]
          },
          "metadata": {},
          "execution_count": 32
        }
      ]
    },
    {
      "cell_type": "code",
      "source": [
        "#Je prends juste les articles dans les catégories Genetic_Algorithms,Neural_Networks et Probabilistic_Methods\n",
        "names = ['Genetic_Algorithms']\n",
        "df1=node_data[node_data.subject.isin(names)]\n",
        "#df1=df.sample(n = 30)\n",
        "\n",
        "names = ['Neural_Networks']\n",
        "df2=node_data[node_data.subject.isin(names)]\n",
        "#df2=df.sample(n = 20)\n",
        "\n",
        "names = ['Probabilistic_Methods']\n",
        "df3=node_data[node_data.subject.isin(names)]\n",
        "#df3=df.sample(n = 40)"
      ],
      "metadata": {
        "id": "oIvlRpQf84jK"
      },
      "execution_count": null,
      "outputs": []
    },
    {
      "cell_type": "code",
      "source": [
        "frames = [df1, df2, df3]\n",
        "df = pd.concat(frames)\n",
        "df=df.sort_index(axis = 0, ascending = True)"
      ],
      "metadata": {
        "id": "j93Ko8HDlsnF"
      },
      "execution_count": null,
      "outputs": []
    },
    {
      "cell_type": "code",
      "source": [
        "#le nom des lignes qui correspondent aux catégories qu'on a gardé\n",
        "\n",
        "row_names=df.index.values"
      ],
      "metadata": {
        "id": "VBEX5n-ogSYw"
      },
      "execution_count": null,
      "outputs": []
    },
    {
      "cell_type": "code",
      "source": [
        "#on fait d'abord le graphe des citations\n",
        "citations=np.array(edgelist)\n",
        "\n",
        "#on enlève la dernière colonne\n",
        "citations=citations[:,:-1]"
      ],
      "metadata": {
        "id": "acKprMXG3llx"
      },
      "execution_count": null,
      "outputs": []
    },
    {
      "cell_type": "code",
      "source": [
        "#on en choisit des lignes où le cité et le citant sont dans les catégories qu'on a choisies (pour ne pas avoir un graphe de citations trop vide)\n",
        "#À la fin on a environ 2*N_max articles\n",
        "\n",
        "choix=np.linspace(0,len(citations)-1,len(citations))\n",
        "C=np.zeros((N_max,2))\n",
        "n=0\n",
        "while n<N_max:\n",
        "  c=int(np.random.choice(choix))\n",
        "  x=citations[c][0]\n",
        "  y=citations[c][1]\n",
        "  if (x in row_names) and (y in row_names):\n",
        "    u=np.where(row_names==x)[0]\n",
        "    v=np.where(row_names==y)[0]\n",
        "    if not [int(u),int(v)] in C:\n",
        "      C[n][0]=int(u)\n",
        "      C[n][1]=int(v)\n",
        "      n+=1"
      ],
      "metadata": {
        "id": "WPvmnGv9hklA"
      },
      "execution_count": null,
      "outputs": []
    },
    {
      "cell_type": "code",
      "source": [
        "# on fait une liste des indices des lignes gardées\n",
        "row_names2=[]\n",
        "for i in range(len(C)):\n",
        "  if not row_names[int(C[i][0])] in row_names2:\n",
        "    row_names2.append(row_names[int(C[i][0])])\n",
        "  if not row_names[int(C[i][1])] in row_names2:\n",
        "    row_names2.append(row_names[int(C[i][1])])\n",
        "  \n",
        "print(\"nombre d'articles gardés={}\".format(len(row_names2)))"
      ],
      "metadata": {
        "id": "0PwMUe_etKgF",
        "colab": {
          "base_uri": "https://localhost:8080/"
        },
        "outputId": "6ff6c9d9-1eb3-44b3-a075-097875376ffb"
      },
      "execution_count": null,
      "outputs": [
        {
          "output_type": "stream",
          "name": "stdout",
          "text": [
            "nombre d'articles gardés=40\n"
          ]
        }
      ]
    },
    {
      "cell_type": "code",
      "source": [
        "row_names2=np.array(np.sort(row_names2))"
      ],
      "metadata": {
        "id": "icbjIfqot0tZ"
      },
      "execution_count": null,
      "outputs": []
    },
    {
      "cell_type": "code",
      "source": [
        "#on crée la matrice des citations\n",
        "m=len(row_names2)\n",
        "cite=np.zeros((m,m))\n",
        "for i in range(len(citations)):\n",
        "  if (citations[i][0] in row_names2) and (citations[i][1] in row_names2):\n",
        "    ind1=0\n",
        "    ind2=0\n",
        "    for j in range(len(row_names2)):\n",
        "      if row_names2[j]==citations[i][0]:\n",
        "        ind1=j\n",
        "      if row_names2[j]==citations[i][1]:\n",
        "        ind2=j\n",
        "    cite[ind1,ind2]=1\n",
        "    cite[ind2,ind1]=1"
      ],
      "metadata": {
        "id": "kxGg5O6CqnQl"
      },
      "execution_count": null,
      "outputs": []
    },
    {
      "cell_type": "code",
      "source": [
        "plt.figure()\n",
        "plt.imshow(cite, cmap='gray',vmin = 0, vmax = 1)\n",
        "plt.savefig(\"cite.pdf\")"
      ],
      "metadata": {
        "colab": {
          "base_uri": "https://localhost:8080/",
          "height": 267
        },
        "id": "ct7L_zBOr2Ls",
        "outputId": "bd74ec2c-1bde-43b2-98cb-b57e9a4cbf02"
      },
      "execution_count": null,
      "outputs": [
        {
          "output_type": "display_data",
          "data": {
            "text/plain": [
              "<Figure size 432x288 with 1 Axes>"
            ],
            "image/png": "[encoded data removed]"
          },
          "metadata": {
            "needs_background": "light"
          }
        }
      ]
    },
    {
      "cell_type": "code",
      "source": [
        "#Maintenant on regarde les histogrammes de mot\n",
        "row_names2=list(row_names2)"
      ],
      "metadata": {
        "id": "7yczKVOH1WfL"
      },
      "execution_count": null,
      "outputs": []
    },
    {
      "cell_type": "code",
      "source": [
        "# on sélectionne seulement les articles gardés pour les citations\n",
        "df=df.loc[row_names2]"
      ],
      "metadata": {
        "id": "sE-xUctu0d6R"
      },
      "execution_count": null,
      "outputs": []
    },
    {
      "cell_type": "code",
      "source": [
        "#on fait la cosine similarity\n",
        "data=df.to_numpy()\n",
        "data=data[:,:-1]\n",
        "m,n=data.shape\n",
        "#A adjacency matric\n",
        "A=np.zeros((m,m))\n",
        "\n",
        "for i in range(m):\n",
        "  for j in range(m):\n",
        "    x=data[i]\n",
        "    y=data[j]\n",
        "    A[i,j]=np.dot(x,y)/(np.linalg.norm(x)*np.linalg.norm(y)) "
      ],
      "metadata": {
        "id": "E4aDJuqQ2BwV"
      },
      "execution_count": null,
      "outputs": []
    },
    {
      "cell_type": "code",
      "source": [
        "#on attribue les valeurs 0 ou 1 et on met la digonale à 0 (ou 1)\n",
        "for i in range(len(A)):\n",
        "  for j in range(len(A)):\n",
        "    if i==j:\n",
        "      A[i,j]=0\n",
        "    elif A[i,j]<0.1:\n",
        "      A[i,j]=1\n",
        "    else: \n",
        "      A[i,j]=0\n",
        "    \n",
        "plt.imshow(A, cmap='gray',vmin = 0, vmax = 1)"
      ],
      "metadata": {
        "colab": {
          "base_uri": "https://localhost:8080/",
          "height": 285
        },
        "id": "Ap1h3zEH2SK8",
        "outputId": "6447b44c-600d-45a4-dd09-934cabc4d3be"
      },
      "execution_count": null,
      "outputs": [
        {
          "output_type": "execute_result",
          "data": {
            "text/plain": [
              "<matplotlib.image.AxesImage at 0x7f8765c4f4c0>"
            ]
          },
          "metadata": {},
          "execution_count": 51
        },
        {
          "output_type": "display_data",
          "data": {
            "text/plain": [
              "<Figure size 432x288 with 1 Axes>"
            ],
            "image/png": "[encoded data removed]"
          },
          "metadata": {
            "needs_background": "light"
          }
        }
      ]
    },
    {
      "cell_type": "code",
      "source": [
        "#liste des labels\n",
        "subject=df.loc[:,'subject']\n",
        "subject=np.array(subject)\n"
      ],
      "metadata": {
        "id": "SLuiTb6NI_ah"
      },
      "execution_count": null,
      "outputs": []
    },
    {
      "cell_type": "code",
      "source": [
        "#on sauve les matrices au format .txt\n",
        "np.savetxt('words.txt',A,fmt='%.2f')\n",
        "np.savetxt('cite.txt',cite,fmt='%.2f')\n",
        "np.savetxt(\"subject.txt\", subject, delimiter=\" \", newline = \"\\n\", fmt=\"%s\")"
      ],
      "metadata": {
        "id": "v-GtTPEi6wdS"
      },
      "execution_count": null,
      "outputs": []
    }
  ]
}