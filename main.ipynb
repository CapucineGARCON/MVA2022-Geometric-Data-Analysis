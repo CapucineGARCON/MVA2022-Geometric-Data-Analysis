{
 "cells": [
  {
   "cell_type": "code",
   "execution_count": null,
   "metadata": {},
   "outputs": [],
   "source": [
    "from utils import create_graph, Degree_Matrix, informative_layers, Purity\n",
    "from one_layer_clustering import Normalized_spectral_clustering\n",
    "from multi_layer_clustering import SC_GED, SC_SR, K-Kmeans\n",
    "\n",
    "import numpy as np\n",
    "import matplotlib.pyplot as plt\n",
    "from sklearn.metrics import normalized_mutual_info_score"
   ]
  },
  {
   "attachments": {},
   "cell_type": "markdown",
   "metadata": {},
   "source": [
    "# Experiments on Cora dataset"
   ]
  },
  {
   "attachments": {},
   "cell_type": "markdown",
   "metadata": {},
   "source": [
    "### Loading Cora dataset"
   ]
  },
  {
   "cell_type": "code",
   "execution_count": null,
   "metadata": {},
   "outputs": [],
   "source": [
    "words = np.loadtxt(\"/Cora/words.txt\")\n",
    "plt.imshow(words, cmap='gray',vmin = 0, vmax = 1)\n",
    "plt.show()"
   ]
  },
  {
   "cell_type": "code",
   "execution_count": null,
   "metadata": {},
   "outputs": [],
   "source": [
    "cite = np.loadtxt(\"/Cora/cite.txt\")\n",
    "plt.imshow(cite, cmap='gray',vmin = 0, vmax = 1)\n",
    "plt.show()"
   ]
  },
  {
   "cell_type": "code",
   "execution_count": null,
   "metadata": {},
   "outputs": [],
   "source": [
    "subject = np.loadtxt(\"/Cora/subject.txt\",dtype=np.str)\n",
    "\n",
    "#Nombre de clusters dans le Cora dataset\n",
    "N_clusters_CORA=3\n",
    "\n",
    "words=words.astype(int)\n",
    "cite=cite.astype(int)\n",
    "A_CORA=words\n",
    "B_CORA=cite\n",
    "\n",
    "create_graph(B_CORA)\n",
    "create_graph(A_CORA)\n"
   ]
  },
  {
   "attachments": {},
   "cell_type": "markdown",
   "metadata": {},
   "source": [
    "### Multi-layer graph clustering and single layer clustering"
   ]
  },
  {
   "cell_type": "code",
   "execution_count": null,
   "metadata": {},
   "outputs": [],
   "source": [
    "\n",
    "N=len(subject)\n",
    "C_CORA = np.concatenate((A_CORA,B_CORA)).reshape(2,N,N)\n",
    "C_CORA.shape\n",
    "\n",
    "k = N_clusters_CORA\n",
    "solution_SCGED, eval_P, eval_Q = SC_GED(C_CORA, k, N_iter = 300)\n",
    "solution_SCSR = SC_SR(C_CORA, k, lambd)\n",
    "solution_KKM = K_Kmeans(C_CORA, k, d=2)\n",
    "\n",
    "solution_A_CORA = Normalized_spectral_clustering(A_CORA, k)\n",
    "solution_B_CORA = Normalized_spectral_clustering(B_CORA, k)"
   ]
  },
  {
   "attachments": {},
   "cell_type": "markdown",
   "metadata": {},
   "source": [
    "### Evaluation of the results"
   ]
  },
  {
   "attachments": {},
   "cell_type": "markdown",
   "metadata": {},
   "source": [
    "#### Purity criteria"
   ]
  },
  {
   "cell_type": "code",
   "execution_count": null,
   "metadata": {},
   "outputs": [],
   "source": [
    "# Ground truth clusters\n",
    "\n",
    "C1=[i for i in range(len(subject)) if subject[i]=='Probabilistic_Methods']\n",
    "C2=[i for i in range(len(subject)) if subject[i]=='Neural_Networks']\n",
    "C3=[i for i in range(len(subject)) if subject[i]=='Genetic_Algorithms']\n",
    "\n",
    "Clusters=np.array([C1,C2,C3])"
   ]
  },
  {
   "cell_type": "code",
   "execution_count": null,
   "metadata": {},
   "outputs": [],
   "source": [
    "#Computed clusters\n",
    "\n",
    "Omega1=[i for i in range(len(solution_SCGED)) if solution_SCGED[i]==0]\n",
    "Omega2=[i for i in range(len(solution_SCGED)) if solution_SCGED[i]==1]\n",
    "Omega3=[i for i in range(len(solution_SCGED)) if solution_SCGED[i]==2]\n",
    "\n",
    "Omega_SCGED=np.array([Omega1,Omega2,Omega3])\n",
    "\n",
    "Omega1_SCSR=[i for i in range(len(solution_SCSR)) if solution_SCSR[i]==0]\n",
    "Omega2_SCSR=[i for i in range(len(solution_SCSR)) if solution_SCSR[i]==1]\n",
    "Omega3_SCSR=[i for i in range(len(solution_SCSR)) if solution_SCSR[i]==2]\n",
    "\n",
    "Omega_SCSR=np.array([Omega1_SCSR,Omega2_SCSR,Omega3_SCSR])\n",
    "\n",
    "Omega1_KKM=[i for i in range(len(solution_KKM)) if solution_KKM[i]==0]\n",
    "Omega2_KKM=[i for i in range(len(solution_KKM)) if solution_KKM[i]==1]\n",
    "Omega3_KKM=[i for i in range(len(solution_KKM)) if solution_KKM[i]==2]\n",
    "\n",
    "Omega_KKM=np.array([Omega1_KKM,Omega2_KKM,Omega3_KKM])\n",
    "\n",
    "\n",
    "Omega1_A_CORA=[i for i in range(len(solution_A_CORA)) if solution_A_CORA[i]==0]\n",
    "Omega2_A_CORA=[i for i in range(len(solution_A_CORA)) if solution_A_CORA[i]==1]\n",
    "Omega3_A_CORA=[i for i in range(len(solution_A_CORA)) if solution_A_CORA[i]==2]\n",
    "\n",
    "Omega_A_CORA=np.array([Omega1_A_CORA,Omega2_A_CORA,Omega3_A_CORA])\n",
    "\n",
    "\n",
    "Omega1_B_CORA=[i for i in range(len(solution_B_CORA)) if solution_B_CORA[i]==0]\n",
    "Omega2_B_CORA=[i for i in range(len(solution_B_CORA)) if solution_B_CORA[i]==1]\n",
    "Omega3_B_CORA=[i for i in range(len(solution_B_CORA)) if solution_B_CORA[i]==2]\n",
    "\n",
    "Omega_B_CORA=np.array([Omega1_B_CORA,Omega2_B_CORA,Omega3_B_CORA])"
   ]
  },
  {
   "cell_type": "code",
   "execution_count": null,
   "metadata": {},
   "outputs": [],
   "source": [
    "p_SCGED=Purity(Omega_SCGED,Clusters,N_clusters_CORA,N)\n",
    "print('Purity SC_GED ={}'.format(p_SCGED))\n",
    "p_SCSR=Purity(Omega_SCSR,Clusters,N_clusters_CORA,N)\n",
    "print('Purity SC_SR ={}'.format(p_SCSR))\n",
    "p_KKM=Purity(Omega_KKM,Clusters,N_clusters_CORA,N)\n",
    "print('Purity KKM ={}'.format(p_KKM))\n",
    "\n",
    "p_A_CORA=Purity(Omega_A_CORA,Clusters,N_clusters_CORA,N)\n",
    "print('Purity Words CORA ={}'.format(p_A_CORA))\n",
    "p_B_CORA=Purity(Omega_B_CORA,Clusters,N_clusters_CORA,N)\n",
    "print('Purity Cites CORA ={}'.format(p_B_CORA))"
   ]
  },
  {
   "attachments": {},
   "cell_type": "markdown",
   "metadata": {},
   "source": [
    "#### Normalized Mutual Information Criteria"
   ]
  },
  {
   "cell_type": "code",
   "execution_count": null,
   "metadata": {},
   "outputs": [],
   "source": [
    "N = len(solution_A_CORA)\n",
    "clusters_label=np.zeros((N), dtype ='int32')\n",
    "for i in range(len(subject)):\n",
    "  if subject[i]=='Probabilistic_Methods':\n",
    "    clusters_label[i]= 0\n",
    "  if subject[i]=='Neural_Networks':\n",
    "    clusters_label[i]= 1\n",
    "  if subject[i]=='Genetic_Algorithms':\n",
    "    clusters_label[i]= 2"
   ]
  },
  {
   "cell_type": "code",
   "execution_count": null,
   "metadata": {},
   "outputs": [],
   "source": [
    "i_SCGED=normalized_mutual_info_score(solution_SCGED,clusters_label)\n",
    "print('NMI SCGED={}'.format(i_SCGED))\n",
    "i_SCSR=normalized_mutual_info_score(solution_SCSR,clusters_label)\n",
    "print('NMI SCSR={}'.format(i_SCSR))\n",
    "i_KKM=normalized_mutual_info_score(solution_KKM,clusters_label)\n",
    "print('NMI KKM={}'.format(i_KKM))\n",
    "i_A_CORA=normalized_mutual_info_score(solution_A_CORA,clusters_label)\n",
    "print('NMI Words ={}'.format(i_A_CORA))\n",
    "i_B_CORA=normalized_mutual_info_score(solution_B_CORA,clusters_label)\n",
    "print('NMI Cites={}'.format(i_B_CORA))"
   ]
  },
  {
   "attachments": {},
   "cell_type": "markdown",
   "metadata": {},
   "source": [
    "# Experiments on MIT dataset"
   ]
  },
  {
   "attachments": {},
   "cell_type": "markdown",
   "metadata": {},
   "source": [
    "### Loading MIT dataset"
   ]
  },
  {
   "cell_type": "code",
   "execution_count": null,
   "metadata": {},
   "outputs": [],
   "source": [
    "matrix_friendship = np.loadtxt('/MIT dataset/matrix_friendship.txt')\n",
    "matrix_proximity = np.loadtxt('/MIT dataset/matrix_proximity.txt')\n",
    "matrix_calls = np.loadtxt('/MIT dataset/matrix_calls.txt')\n",
    "labels_MIT  = np.loadtxt('/MIT dataset/labels.txt', delimiter = '\\\\t', dtype = str)"
   ]
  },
  {
   "cell_type": "code",
   "execution_count": null,
   "metadata": {},
   "outputs": [],
   "source": [
    "#Les troix matrices d'adjacence, pour chaque couche\n",
    "A1=matrix_friendship\n",
    "A2=matrix_proximity\n",
    "A3=matrix_calls\n",
    "\n",
    "plt.imshow(A1, cmap='gray',vmin = 0, vmax = 1)\n",
    "plt.title('Friendship')\n",
    "plt.show()\n",
    "plt.imshow(A2, cmap='gray',vmin = 0, vmax = 1)\n",
    "plt.title('Proximity')\n",
    "plt.show()\n",
    "plt.imshow(A3, cmap='gray',vmin = 0, vmax = 1)\n",
    "plt.show('Calls')\n",
    "plt.show()"
   ]
  },
  {
   "cell_type": "code",
   "execution_count": null,
   "metadata": {},
   "outputs": [],
   "source": [
    "create_graph(A1)\n",
    "create_graph(A2)\n",
    "create_graph(A3)"
   ]
  },
  {
   "cell_type": "code",
   "execution_count": null,
   "metadata": {},
   "outputs": [],
   "source": [
    "N_clusters_MIT = 6\n",
    "\n",
    "C_MIT = np.concatenate((A1,A2,A3)).reshape(3,90,90)\n",
    "\n",
    "ranking = informative_layers(C_MIT, N_clusters_MIT)\n",
    "print('Ranking of the layers : {}'.format(ranking))"
   ]
  },
  {
   "attachments": {},
   "cell_type": "markdown",
   "metadata": {},
   "source": [
    "### Multi-layer graph clustering and single layer clustering"
   ]
  },
  {
   "cell_type": "code",
   "execution_count": null,
   "metadata": {},
   "outputs": [],
   "source": [
    "k = N_clusters_MIT\n",
    "\n",
    "solution_SCGED, eval_P, eval_Q = SC_GED(C_MIT, k, N_iter = 20)\n",
    "solution_SCSR = SC_SR(C_MIT, k, lambd)\n",
    "solution_KKM = K_Kmeans(C_MIT, k, d=3)\n",
    "\n",
    "solution_A1 = Normalized_spectral_clustering(A1, k)\n",
    "solution_A2 = Normalized_spectral_clustering(A2, k)\n",
    "solution_A3 = Normalized_spectral_clustering(A3, k)"
   ]
  },
  {
   "attachments": {},
   "cell_type": "markdown",
   "metadata": {},
   "source": [
    "### Evaluation of the results"
   ]
  },
  {
   "attachments": {},
   "cell_type": "markdown",
   "metadata": {},
   "source": [
    "#### Purity criteria"
   ]
  },
  {
   "cell_type": "code",
   "execution_count": null,
   "metadata": {},
   "outputs": [],
   "source": [
    "# Ground truth clusters\n",
    "N = len(labels_MIT)\n",
    "\n",
    "C1=[i for i in range(N) if labels_MIT[i]=='1styeargrad ']\n",
    "C2=[i for i in range(N) if labels_MIT[i]=='mlgrad']\n",
    "C3=[i for i in range(N) if labels_MIT[i]=='sloan']\n",
    "C4=[i for i in range(N) if labels_MIT[i]=='mlfrosh']\n",
    "C5=[i for i in range(N) if labels_MIT[i]=='mlurop']\n",
    "C6=[i for i in range(N) if labels_MIT[i]=='mlstaff']\n",
    "\n",
    "Clusters=np.array([C1,C2,C3,C4,C5,C6])"
   ]
  },
  {
   "cell_type": "code",
   "execution_count": null,
   "metadata": {},
   "outputs": [],
   "source": [
    "#Computing predicted clusters\n",
    "\n",
    "Omega_SCGED = []\n",
    "for j in range(N_clusters_MIT):\n",
    "  Omega=[i for i in range(len(solution_SCGED)) if solution_SCGED[i]==j]\n",
    "  Omega_SCGED.append(Omega)\n",
    "Omega_SCGED=np.array(Omega_SCGED)\n",
    "\n",
    "Omega_SCSR = []\n",
    "for j in range(N_clusters_MIT):\n",
    "  Omega=[i for i in range(len(solution_SCSR)) if solution_SCSR[i]==j]\n",
    "  Omega_SCSR.append(Omega)\n",
    "Omega_SCSR=np.array(Omega_SCSR)\n",
    "\n",
    "Omega_KKM = []\n",
    "for j in range(N_clusters_MIT):\n",
    "  Omega=[i for i in range(len(solution_KKM)) if solution_KKM[i]==j]\n",
    "  Omega_KKM.append(Omega)\n",
    "Omega_KKM=np.array(Omega_KKM)\n",
    "\n",
    "\n",
    "Omega_A1 = []\n",
    "for j in range(N_clusters_MIT):\n",
    "  Omega=[i for i in range(len(solution_A1)) if solution_A1[i]==j]\n",
    "  Omega_A1.append(Omega)\n",
    "Omega_A1=np.array(Omega_A1)\n",
    "\n",
    "\n",
    "Omega_A2 = []\n",
    "for j in range(N_clusters_MIT):\n",
    "  Omega=[i for i in range(len(solution_A2)) if solution_A2[i]==j]\n",
    "  Omega_A2.append(Omega)\n",
    "Omega_A2=np.array(Omega_A2)\n",
    "\n",
    "\n",
    "Omega_A3 = []\n",
    "for j in range(N_clusters_MIT):\n",
    "  Omega=[i for i in range(len(solution_A3)) if solution_A3[i]==j]\n",
    "  Omega_A3.append(Omega)\n",
    "Omega_A3=np.array(Omega_A3)"
   ]
  },
  {
   "cell_type": "code",
   "execution_count": null,
   "metadata": {},
   "outputs": [],
   "source": [
    "p_SCGED=Purity(Omega_SCGED,Clusters,N_clusters_MIT,N)\n",
    "print('Purity SC_GED ={}'.format(p_SCGED))\n",
    "p_SCSR=Purity(Omega_SCSR,Clusters,N_clusters_MIT,N)\n",
    "print('Purity SC_SR ={}'.format(p_SCSR))\n",
    "p_KKM=Purity(Omega_KKM,Clusters,N_clusters_MIT,N)\n",
    "print('Purity KKM ={}'.format(p_KKM))\n",
    "p_A1=Purity(Omega_A1,Clusters,N_clusters_MIT,N)\n",
    "print('Purity Friendship ={}'.format(p_A1))\n",
    "p_A2=Purity(Omega_A2,Clusters,N_clusters_MIT,N)\n",
    "print('Purity Proximity ={}'.format(p_A2))\n",
    "p_A3=Purity(Omega_A3,Clusters,N_clusters_MIT,N)\n",
    "print('Purity Calls ={}'.format(p_A3))\n"
   ]
  },
  {
   "attachments": {},
   "cell_type": "markdown",
   "metadata": {},
   "source": [
    "#### Normalized Mutual Information Criteria"
   ]
  },
  {
   "cell_type": "code",
   "execution_count": null,
   "metadata": {},
   "outputs": [],
   "source": [
    "N = len(solution_KKM)\n",
    "clusters_label=np.zeros((N), dtype ='int32')\n",
    "for i in range(len(labels_MIT)):\n",
    "  if labels_MIT[i]=='1styeargrad':\n",
    "    clusters_label[i]= 0\n",
    "  if labels_MIT[i]=='mlgrad':\n",
    "    clusters_label[i]= 1\n",
    "  if labels_MIT[i]=='sloan':\n",
    "    clusters_label[i]= 2\n",
    "  if labels_MIT[i]=='mlfrosh':\n",
    "    clusters_label[i]= 3\n",
    "  if labels_MIT[i]=='mlurop':\n",
    "    clusters_label[i]= 4\n",
    "  if labels_MIT[i]=='mlstaff':\n",
    "    clusters_label[i]= 5"
   ]
  },
  {
   "cell_type": "code",
   "execution_count": null,
   "metadata": {},
   "outputs": [],
   "source": [
    "i_SCGED=normalized_mutual_info_score(solution_SCGED,clusters_label)\n",
    "print('NMI SCGED={}'.format(i_SCGED))\n",
    "i_SCSR=normalized_mutual_info_score(solution_SCSR,clusters_label)\n",
    "print('NMI SCSR={}'.format(i_SCSR))\n",
    "i_KKM=normalized_mutual_info_score(solution_KKM,clusters_label)\n",
    "print('NMI KKM={}'.format(i_KKM))\n",
    "i_A1=normalized_mutual_info_score(solution_A1,clusters_label)\n",
    "print('NMI Friendship ={}'.format(i_A1))\n",
    "i_A2=normalized_mutual_info_score(solution_A2,clusters_label)\n",
    "print('NMI Proximity ={}'.format(i_A2))\n",
    "i_A3=normalized_mutual_info_score(solution_A3,clusters_label)\n",
    "print('NMI Calls ={}'.format(i_A3))"
   ]
  }
 ],
 "metadata": {
  "kernelspec": {
   "display_name": "Python 3",
   "language": "python",
   "name": "python3"
  },
  "language_info": {
   "name": "python",
   "version": "3.9.9 (main, Nov 21 2021, 03:23:44) \n[Clang 13.0.0 (clang-1300.0.29.3)]"
  },
  "orig_nbformat": 4,
  "vscode": {
   "interpreter": {
    "hash": "aee8b7b246df8f9039afb4144a1f6fd8d2ca17a180786b69acc140d282b71a49"
   }
  }
 },
 "nbformat": 4,
 "nbformat_minor": 2
}
